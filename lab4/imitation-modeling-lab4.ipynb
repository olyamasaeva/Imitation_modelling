{
 "cells": [
  {
   "cell_type": "code",
   "execution_count": 1,
   "metadata": {
    "_execution_state": "idle",
    "_uuid": "051d70d956493feee0c6d64651c6a088724dca2a"
   },
   "outputs": [],
   "source": [
    "import random as rnd\n",
    "import numpy as np\n",
    "import scipy.stats as stats\n",
    "import math\n",
    "from matplotlib import pyplot as plt\n",
    "import copy\n",
    "from scipy.spatial.distance import euclidean "
   ]
  },
  {
   "cell_type": "code",
   "execution_count": 2,
   "metadata": {},
   "outputs": [],
   "source": [
    "alpha = 0.6\n",
    "# Период дискретизации\n",
    "delta_t = 0.5\n",
    "# Отклонение с.в. w_n\n",
    "sigma = 0.5\n",
    "# Стандартное отклонение\n",
    "delta = 1.5\n",
    "# Коёффициент, характеризующий среду распространения сигнала\n",
    "beta = 3\n",
    "# Число станций\n",
    "L = 6\n",
    "# Мощность сигнала, передаваемого базовой станцией\n",
    "P0 = 90\n",
    "# Число частиц\n",
    "M = 10\n"
   ]
  },
  {
   "cell_type": "code",
   "execution_count": 3,
   "metadata": {},
   "outputs": [],
   "source": [
    "A = np.array([\n",
    "    [1, delta_t, delta_t ** 2 / 2, 0, 0, 0],\n",
    "    [0, 1, delta_t, 0, 0, 0],\n",
    "    [0, 0, alpha, 0, 0, 0],\n",
    "    [0, 0, 0, 1, delta_t, delta_t ** 2 / 2],\n",
    "    [0, 0, 0, 0, 1, delta_t],\n",
    "    [0, 0, 0, 0, 0, alpha]])\n",
    "\n",
    "B = np.array([\n",
    "    [delta_t ** 2 / 2, 0],\n",
    "    [delta_t, 0],\n",
    "    [0, 0],\n",
    "    [0, delta_t ** 2 / 2],\n",
    "    [0, delta_t],\n",
    "    [0, 0]])\n",
    "\n",
    "C = np.array([\n",
    "    [delta_t ** 2 / 2, 0],\n",
    "    [delta_t, 0],\n",
    "    [1, 0],\n",
    "    [0, delta_t ** 2 / 2],\n",
    "    [0, delta_t],\n",
    "    [0, 1]])\n",
    "\n",
    "U = np.array([\n",
    "    np.array([0, 0]).T,\n",
    "    np.array([3.5, 0]).T, \n",
    "    np.array([0, 3.5]).T, \n",
    "    np.array([-3.5, 0]).T,\n",
    "    np.array([0, -3.5]).T])\n",
    "\n",
    "P = 1 / 20 * np.array([\n",
    "    [16, 1, 1, 1, 1],\n",
    "    [1, 16, 1, 1, 1],\n",
    "    [1, 1, 16, 1, 1],\n",
    "    [1, 1, 1, 16, 1],\n",
    "    [1, 1, 1, 1, 16]])\n",
    "parts = 300"
   ]
  },
  {
   "cell_type": "code",
   "execution_count": 4,
   "metadata": {},
   "outputs": [],
   "source": [
    "# Считываем координаты станций из файла\n",
    "stations = []\n",
    "with open('stations.txt', 'r') as f:\n",
    "    x = f.readline().split()\n",
    "    y = f.readline().split()\n",
    "    stations = np.vstack((x, y)).T\n",
    "stations = np.array(stations).reshape((6, -1)).astype(float)"
   ]
  },
  {
   "cell_type": "code",
   "execution_count": null,
   "metadata": {},
   "outputs": [],
   "source": []
  },
  {
   "cell_type": "code",
   "execution_count": 5,
   "metadata": {},
   "outputs": [],
   "source": [
    "# Считываем показания станций\n",
    "y = []\n",
    "with open('RSSI-measurements.txt', 'r') as f:\n",
    "    for l in f.readlines():\n",
    "        y.extend(l.split())\n",
    "y = np.array(y).reshape((len(stations), -1)).astype(float).T\n"
   ]
  },
  {
   "cell_type": "code",
   "execution_count": 6,
   "metadata": {},
   "outputs": [],
   "source": [
    "# Начальное состояние\n",
    "x_s = np.random.multivariate_normal(np.zeros((L)), np.diag((500, 5, 5, 200, 5, 5)), M)\n",
    "\n",
    "# Индекс начального состояния марковской цепи для каждой частицы;\n",
    "u_s = np.random.randint(0, 4, M)\n",
    "\n",
    "# Вектор ответа\n",
    "ans = []"
   ]
  },
  {
   "cell_type": "code",
   "execution_count": 7,
   "metadata": {},
   "outputs": [],
   "source": [
    "# Цикл по наблюдениям\n",
    "for i in range(len(y)):\n",
    "    #print(\"it {}\".format(i))\n",
    "    w = np.zeros((M))\n",
    "    # Цикл по частицам\n",
    "    for j in range(M):\n",
    "        # Прогноз\n",
    "        trans = stats.rv_discrete(values=(np.arange(5), P[u_s[j]]))\n",
    "        u_s[j] = trans.rvs()\n",
    "        x_s[j] = np.dot(A, x_s[j]) + np.dot(B, U[u_s[j]])\n",
    "        x_s[j] += np.dot(C, np.random.multivariate_normal(np.zeros((2)), np.diag((sigma ** 2, sigma ** 2))))\n",
    "\n",
    "        # Коррекция\n",
    "        y_t = np.zeros(L)\n",
    "        for k in range(L):\n",
    "            dist = euclidean(np.array(x_s)[j, [0, 3]], stations[k])\n",
    "            y_t[k] = P0 - 10 * beta * np.log10(dist)\n",
    "\n",
    "        w[j] = np.exp(-euclidean(y_t , y[i]) ** 2 / (2 * delta ** 2))\n",
    "\n",
    "    # Оценка положения объекта\n",
    "    x_wave = np.zeros(L)\n",
    "    w /= sum(w)\n",
    "    for j in range(M):\n",
    "        x_wave += w[j] * x_s[j]\n",
    "\n",
    "    #print(\"coord = {0:.3f} {0:.3f}\".format(x_wave[0], x_wave[3]))\n",
    "    # Сохраняем оценку в траектории и её координаты для построения графика\n",
    "    ans.append(x_wave)\n",
    "\n",
    "    # Ресэмплинг\n",
    "    x_samples = copy.deepcopy(x_s)\n",
    "    u_samples = copy.deepcopy(u_s)\n",
    "    w_indices = [i for i in range(len(w))]\n",
    "    w_dist = stats.rv_discrete(values=(w_indices, w))\n",
    "    for j in range(M):\n",
    "        resample_index = w_dist.rvs()\n",
    "        x_s[j] = x_samples[resample_index]\n",
    "        u_s[j] = u_samples[resample_index]\n",
    "\n",
    "      "
   ]
  },
  {
   "cell_type": "code",
   "execution_count": 8,
   "metadata": {},
   "outputs": [
    {
     "data": {
      "image/png": "[encoded data removed]",
      "text/plain": [
       "<Figure size 432x432 with 1 Axes>"
      ]
     },
     "metadata": {
      "needs_background": "light"
     },
     "output_type": "display_data"
    }
   ],
   "source": [
    "plt.figure(figsize=(6, 6))\n",
    "plt.scatter(stations[:,0], stations[:, 1])\n",
    "ans = np.array(ans)\n",
    "plt.plot(ans[:, 0], ans[:, 3])\n",
    "plt.show()"
   ]
  },
  {
   "cell_type": "code",
   "execution_count": null,
   "metadata": {},
   "outputs": [],
   "source": []
  },
  {
   "cell_type": "code",
   "execution_count": null,
   "metadata": {},
   "outputs": [],
   "source": []
  },
  {
   "cell_type": "code",
   "execution_count": null,
   "metadata": {},
   "outputs": [],
   "source": []
  }
 ],
 "metadata": {
  "kernelspec": {
   "display_name": "Python 3 (ipykernel)",
   "language": "python",
   "name": "python3"
  },
  "language_info": {
   "codemirror_mode": {
    "name": "ipython",
    "version": 3
   },
   "file_extension": ".py",
   "mimetype": "text/x-python",
   "name": "python",
   "nbconvert_exporter": "python",
   "pygments_lexer": "ipython3",
   "version": "3.8.10"
  }
 },
 "nbformat": 4,
 "nbformat_minor": 4
}
