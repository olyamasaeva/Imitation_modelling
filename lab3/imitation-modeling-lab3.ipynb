{
 "cells": [
  {
   "cell_type": "code",
   "execution_count": 1,
   "id": "cross-mobility",
   "metadata": {
    "_execution_state": "idle",
    "_uuid": "051d70d956493feee0c6d64651c6a088724dca2a",
    "execution": {
     "iopub.execute_input": "2021-05-01T12:16:57.878726Z",
     "iopub.status.busy": "2021-05-01T12:16:57.877553Z",
     "iopub.status.idle": "2021-05-01T12:16:58.729261Z",
     "shell.execute_reply": "2021-05-01T12:16:58.728361Z"
    },
    "papermill": {
     "duration": 0.881,
     "end_time": "2021-05-01T12:16:58.729442",
     "exception": false,
     "start_time": "2021-05-01T12:16:57.848442",
     "status": "completed"
    },
    "tags": []
   },
   "outputs": [],
   "source": [
    "import random as rnd\n",
    "import numpy as np\n",
    "import scipy\n",
    "import scipy.stats as stats\n",
    "import math\n",
    "from matplotlib import pyplot as plt\n",
    "import copy\n",
    "from scipy.spatial.distance import euclidean \n",
    "import pandas as pd \n",
    "import numpy as np\n",
    "import math\n",
    "\n",
    "from numpy.random import uniform\n",
    "from scipy.stats import kstest, t, norm\n",
    "import matplotlib.pyplot as plt\n",
    "from matplotlib import mlab\n",
    "import pylab\n",
    "from wordcloud import WordCloud, STOPWORDS"
   ]
  },
  {
   "cell_type": "markdown",
   "id": "exact-cincinnati",
   "metadata": {
    "papermill": {
     "duration": 0.023014,
     "end_time": "2021-05-01T12:16:58.776541",
     "exception": false,
     "start_time": "2021-05-01T12:16:58.753527",
     "status": "completed"
    },
    "tags": []
   },
   "source": [
    "# Задание 3.1"
   ]
  },
  {
   "cell_type": "code",
   "execution_count": 2,
   "id": "committed-exposure",
   "metadata": {
    "execution": {
     "iopub.execute_input": "2021-05-01T12:16:58.830243Z",
     "iopub.status.busy": "2021-05-01T12:16:58.829598Z",
     "iopub.status.idle": "2021-05-01T12:16:58.831630Z",
     "shell.execute_reply": "2021-05-01T12:16:58.832090Z"
    },
    "papermill": {
     "duration": 0.031787,
     "end_time": "2021-05-01T12:16:58.832276",
     "exception": false,
     "start_time": "2021-05-01T12:16:58.800489",
     "status": "completed"
    },
    "tags": []
   },
   "outputs": [],
   "source": [
    "# расстояние системы сенсоров до плоскости\n",
    "h = 1\n",
    "#Координаты источника магнитного поля\n",
    "p1 = 1\n",
    "p2 = 1\n",
    "#координаты дипольного  момента\n",
    "q1 = 1\n",
    "q2 = 1\n",
    "\n",
    "#вектор степеней свободы\n",
    "x = [p1, p2, q1, q2]\n",
    "\n",
    "\n",
    "q0 = [q1, q2, 0]\n",
    "p0 = [p1, p2, 0]\n",
    "\n",
    "q = [q1, q2, 0]\n",
    "p = [p1, p2, 0]\n",
    "\n",
    "#Магнитная постоянная\n",
    "mu0 = 1 "
   ]
  },
  {
   "cell_type": "code",
   "execution_count": 3,
   "id": "modern-remainder",
   "metadata": {
    "execution": {
     "iopub.execute_input": "2021-05-01T12:16:58.881786Z",
     "iopub.status.busy": "2021-05-01T12:16:58.881129Z",
     "iopub.status.idle": "2021-05-01T12:16:58.885278Z",
     "shell.execute_reply": "2021-05-01T12:16:58.885758Z"
    },
    "papermill": {
     "duration": 0.030454,
     "end_time": "2021-05-01T12:16:58.885935",
     "exception": false,
     "start_time": "2021-05-01T12:16:58.855481",
     "status": "completed"
    },
    "tags": []
   },
   "outputs": [],
   "source": [
    "#Плоскость движения\n",
    "r  = np.array([\n",
    "  [2,2,h],\n",
    "  [-2,-2,h],\n",
    "  [2,-2,h],\n",
    "  [-2,2,h]\n",
    "])\n",
    "\n",
    "n = len(r)\n"
   ]
  },
  {
   "cell_type": "code",
   "execution_count": 4,
   "id": "conceptual-arlington",
   "metadata": {
    "execution": {
     "iopub.execute_input": "2021-05-01T12:16:58.937731Z",
     "iopub.status.busy": "2021-05-01T12:16:58.936935Z",
     "iopub.status.idle": "2021-05-01T12:16:58.943047Z",
     "shell.execute_reply": "2021-05-01T12:16:58.943516Z"
    },
    "papermill": {
     "duration": 0.034316,
     "end_time": "2021-05-01T12:16:58.943706",
     "exception": false,
     "start_time": "2021-05-01T12:16:58.909390",
     "status": "completed"
    },
    "tags": []
   },
   "outputs": [],
   "source": [
    "#Формула компоненты вектора магнитной индукции\n",
    "def b_func (x,j):\n",
    "#    print(x);\n",
    "    p = [x[0], x[1], 0]\n",
    "    q = [x[2], x[3], 0]\n",
    "    v = r[j]-p\n",
    "    len = np.sqrt(v[0]**2+v[1]**2+v[2]**2)\n",
    "    coord_z = q[0]*v[1] - v[0]*q[1]\n",
    "    res = mu0/(4*np.pi)*(coord_z)/len**3\n",
    "    return res"
   ]
  },
  {
   "cell_type": "code",
   "execution_count": 5,
   "id": "colored-mount",
   "metadata": {
    "execution": {
     "iopub.execute_input": "2021-05-01T12:16:58.993936Z",
     "iopub.status.busy": "2021-05-01T12:16:58.993321Z",
     "iopub.status.idle": "2021-05-01T12:16:59.016535Z",
     "shell.execute_reply": "2021-05-01T12:16:59.017020Z"
    },
    "papermill": {
     "duration": 0.049738,
     "end_time": "2021-05-01T12:16:59.017213",
     "exception": false,
     "start_time": "2021-05-01T12:16:58.967475",
     "status": "completed"
    },
    "tags": []
   },
   "outputs": [],
   "source": [
    "sigma = np.array([[1.0, 0.0, 0.0, 0.0],   \n",
    "                  [0.0, 1.0, 0.0, 0.0],   \n",
    "                  [0.0, 0.0, 1.0, 0.0],  \n",
    "                  [0.0, 0.0, 0.0, 1.0]])\n",
    "means = [0]*n\n",
    "#Распределение шума\n",
    "V  = np.random.multivariate_normal(means, sigma,1)"
   ]
  },
  {
   "cell_type": "code",
   "execution_count": 6,
   "id": "compound-thailand",
   "metadata": {
    "execution": {
     "iopub.execute_input": "2021-05-01T12:16:59.072229Z",
     "iopub.status.busy": "2021-05-01T12:16:59.071491Z",
     "iopub.status.idle": "2021-05-01T12:16:59.074738Z",
     "shell.execute_reply": "2021-05-01T12:16:59.074193Z"
    },
    "papermill": {
     "duration": 0.034095,
     "end_time": "2021-05-01T12:16:59.074907",
     "exception": false,
     "start_time": "2021-05-01T12:16:59.040812",
     "status": "completed"
    },
    "tags": []
   },
   "outputs": [],
   "source": [
    "b = [0]*n\n",
    "for i in range(0,n):\n",
    "    b[i] = b_func([p1,p2,q1,q2],i)\n",
    "y = b + V\n",
    "y = y[0]"
   ]
  },
  {
   "cell_type": "code",
   "execution_count": 7,
   "id": "lonely-dining",
   "metadata": {
    "execution": {
     "iopub.execute_input": "2021-05-01T12:16:59.135722Z",
     "iopub.status.busy": "2021-05-01T12:16:59.135006Z",
     "iopub.status.idle": "2021-05-01T12:16:59.138492Z",
     "shell.execute_reply": "2021-05-01T12:16:59.137955Z"
    },
    "papermill": {
     "duration": 0.039544,
     "end_time": "2021-05-01T12:16:59.138631",
     "exception": false,
     "start_time": "2021-05-01T12:16:59.099087",
     "status": "completed"
    },
    "tags": []
   },
   "outputs": [],
   "source": [
    "#Вектор средних\n",
    "mean_vect = [p1, p2, q1, q2]\n",
    "sd_matr = np.diag([1,1,1,1])\n",
    "\n",
    "#Априорное распределение\n",
    "def Prior_dist (x):\n",
    "    q = ([0]*len(x))\n",
    "    for i in range(0,len(q)):\n",
    "        q[i] = (x[i] - mean_vect[i])\n",
    "    q1 = [0]*len(x)\n",
    "    for i in range(0,len(q1)):\n",
    "        for j in range(0,len(q1)):\n",
    "            q1[i]+=q[j]*sd_matr[i][j]\n",
    "    sum =0 ;\n",
    "    for i in range(0,len(q)):\n",
    "        sum+=q[i]*q1[i]\n",
    "    return(1/(2*np.pi)**2 * np.exp(-0.5*sum))#( q.dot(q1)[0])))\n",
    "\n",
    "def Prior_dist1 (x):\n",
    "    return scipy.stats.multivariate_normal.pdf(x, mean_vect, sd_matr)\n",
    "\n",
    "#Функция правдоподобия\n",
    "\n",
    "def Likelihood_func(x):\n",
    "    sum = 1\n",
    "#    print(len(x))\n",
    " #   print(y)\n",
    " #   print(len(sigma))\n",
    "    for i in range(0,n):\n",
    "        sum = sum *np.exp(-(y[i]-b_func(x,i))**2/(2*sigma[i,i]**2))\n",
    "    return(sum)\n",
    "\n",
    "def Posterior_func(x):\n",
    "    return(Likelihood_func(x)*Prior_dist(x))\n"
   ]
  },
  {
   "cell_type": "code",
   "execution_count": 8,
   "id": "adult-clause",
   "metadata": {
    "execution": {
     "iopub.execute_input": "2021-05-01T12:16:59.212115Z",
     "iopub.status.busy": "2021-05-01T12:16:59.211060Z",
     "iopub.status.idle": "2021-05-01T12:16:59.216347Z",
     "shell.execute_reply": "2021-05-01T12:16:59.217358Z"
    },
    "papermill": {
     "duration": 0.054174,
     "end_time": "2021-05-01T12:16:59.217692",
     "exception": false,
     "start_time": "2021-05-01T12:16:59.163518",
     "status": "completed"
    },
    "tags": []
   },
   "outputs": [
    {
     "name": "stdout",
     "output_type": "stream",
     "text": [
      "[1, 1, 1, 1]\n",
      "0.01286431301417603\n",
      "0.012864313014176041\n"
     ]
    }
   ],
   "source": [
    "X = [0.47276088792328874, 0.17633185590312983, 0.3836756258610057, 0.8628060648381917];\n",
    "\n",
    "print(mean_vect)\n",
    "print(Prior_dist(X))\n",
    "print(Prior_dist1(X))"
   ]
  },
  {
   "cell_type": "code",
   "execution_count": 9,
   "id": "lesser-fancy",
   "metadata": {
    "execution": {
     "iopub.execute_input": "2021-05-01T12:16:59.285016Z",
     "iopub.status.busy": "2021-05-01T12:16:59.282235Z",
     "iopub.status.idle": "2021-05-01T12:17:03.300071Z",
     "shell.execute_reply": "2021-05-01T12:17:03.299525Z"
    },
    "papermill": {
     "duration": 4.056691,
     "end_time": "2021-05-01T12:17:03.300212",
     "exception": false,
     "start_time": "2021-05-01T12:16:59.243521",
     "status": "completed"
    },
    "tags": []
   },
   "outputs": [],
   "source": [
    "\n",
    "m = 10000\n",
    "\n",
    "X = [0] * m\n",
    "for i in range(m):\n",
    "    X[i] = [0] * 4\n",
    "\n",
    "X[0] = [-5, -5, q1, q2]\n",
    "p_x = []\n",
    "p_x.append(X[0][0])\n",
    "p_y = []\n",
    "p_y.append(X[0][1])\n",
    "for k in range(1,m):\n",
    "    Y =  np.random.multivariate_normal(X[k-1], np.diag([1,1,1,1]),1)\n",
    "    alpha = min(1, Posterior_func(Y[0])/Posterior_func(X[k-1]))\n",
    "    if(uniform() < alpha):\n",
    "        X[k] = Y[0]\n",
    "    else:\n",
    "        X[k] = X[k-1]\n",
    "    p_x.append(X[k][1])\n",
    "    p_y.append(X[k][2])    \n"
   ]
  },
  {
   "cell_type": "code",
   "execution_count": 10,
   "id": "junior-inflation",
   "metadata": {
    "execution": {
     "iopub.execute_input": "2021-05-01T12:17:03.502268Z",
     "iopub.status.busy": "2021-05-01T12:17:03.482361Z",
     "iopub.status.idle": "2021-05-01T12:17:04.682354Z",
     "shell.execute_reply": "2021-05-01T12:17:04.681804Z"
    },
    "papermill": {
     "duration": 1.357357,
     "end_time": "2021-05-01T12:17:04.682490",
     "exception": false,
     "start_time": "2021-05-01T12:17:03.325133",
     "status": "completed"
    },
    "tags": []
   },
   "outputs": [
    {
     "name": "stdout",
     "output_type": "stream",
     "text": [
      "[0.85453277 0.99285507 1.00256165 1.18545867]\n",
      "0.0015495575700715121\n"
     ]
    }
   ],
   "source": [
    "#Оценка максимума апостериорного распределения\n",
    "maxx = -10000\n",
    "for i in range(0,m):\n",
    "    a = Posterior_func(X[i])\n",
    "    if(a > maxx):\n",
    "        maxx = a\n",
    "        pos = X[i]\n",
    "print(pos)\n",
    "print(maxx)\n"
   ]
  },
  {
   "cell_type": "code",
   "execution_count": 11,
   "id": "oriented-living",
   "metadata": {
    "execution": {
     "iopub.execute_input": "2021-05-01T12:17:04.765468Z",
     "iopub.status.busy": "2021-05-01T12:17:04.763922Z",
     "iopub.status.idle": "2021-05-01T12:17:04.988518Z",
     "shell.execute_reply": "2021-05-01T12:17:04.987995Z"
    },
    "papermill": {
     "duration": 0.280899,
     "end_time": "2021-05-01T12:17:04.988664",
     "exception": false,
     "start_time": "2021-05-01T12:17:04.707765",
     "status": "completed"
    },
    "tags": []
   },
   "outputs": [
    {
     "data": {
      "image/png": "[encoded data removed]",
      "text/plain": [
       "<Figure size 432x432 with 1 Axes>"
      ]
     },
     "metadata": {
      "needs_background": "light"
     },
     "output_type": "display_data"
    }
   ],
   "source": [
    "plt.figure(figsize=(6, 6))\n",
    "plt.ylim([-10, 10])\n",
    "plt.xlim([-10, 10])\n",
    "plt.scatter([X[0][0]],[X[0][1]],c = \"yellow\")\n",
    "plt.plot(p_x,p_y,c = \"black\")\n",
    "plt.scatter(r[:,0], r[:, 1],c = \"red\")\n",
    "plt.scatter( [p1], [p2], c = \"pink\")\n",
    "plt.scatter([pos[1]],[pos[2]], c= \"blue\")\n",
    "\n",
    "plt.show()"
   ]
  },
  {
   "cell_type": "markdown",
   "id": "macro-lottery",
   "metadata": {
    "papermill": {
     "duration": 0.026358,
     "end_time": "2021-05-01T12:17:05.041624",
     "exception": false,
     "start_time": "2021-05-01T12:17:05.015266",
     "status": "completed"
    },
    "tags": []
   },
   "source": [
    "# Задание 3.2"
   ]
  },
  {
   "cell_type": "code",
   "execution_count": 12,
   "id": "senior-episode",
   "metadata": {
    "execution": {
     "iopub.execute_input": "2021-05-01T12:17:05.099554Z",
     "iopub.status.busy": "2021-05-01T12:17:05.098937Z",
     "iopub.status.idle": "2021-05-01T12:17:05.101538Z",
     "shell.execute_reply": "2021-05-01T12:17:05.102003Z"
    },
    "papermill": {
     "duration": 0.033682,
     "end_time": "2021-05-01T12:17:05.102170",
     "exception": false,
     "start_time": "2021-05-01T12:17:05.068488",
     "status": "completed"
    },
    "tags": []
   },
   "outputs": [],
   "source": [
    "#Количество тем\n",
    "T = 3; \n",
    "#Параметры распределений дирихле\n",
    "alpha = 0.1; \n",
    "beta = 0.1\n"
   ]
  },
  {
   "cell_type": "code",
   "execution_count": 13,
   "id": "nervous-dover",
   "metadata": {
    "execution": {
     "iopub.execute_input": "2021-05-01T12:17:05.160491Z",
     "iopub.status.busy": "2021-05-01T12:17:05.159805Z",
     "iopub.status.idle": "2021-05-01T12:17:05.185126Z",
     "shell.execute_reply": "2021-05-01T12:17:05.184559Z"
    },
    "papermill": {
     "duration": 0.056814,
     "end_time": "2021-05-01T12:17:05.185275",
     "exception": false,
     "start_time": "2021-05-01T12:17:05.128461",
     "status": "completed"
    },
    "tags": []
   },
   "outputs": [],
   "source": [
    "#Считываем текст\n",
    "data = []\n",
    "with open(\"test1.dat\") as f:\n",
    "    for line in f:\n",
    "        data.append([int(x)-1 for x in line.split()])"
   ]
  },
  {
   "cell_type": "code",
   "execution_count": 14,
   "id": "extreme-breed",
   "metadata": {
    "execution": {
     "iopub.execute_input": "2021-05-01T12:17:05.247039Z",
     "iopub.status.busy": "2021-05-01T12:17:05.246311Z",
     "iopub.status.idle": "2021-05-01T12:17:05.249411Z",
     "shell.execute_reply": "2021-05-01T12:17:05.248780Z"
    },
    "papermill": {
     "duration": 0.037508,
     "end_time": "2021-05-01T12:17:05.249563",
     "exception": false,
     "start_time": "2021-05-01T12:17:05.212055",
     "status": "completed"
    },
    "tags": []
   },
   "outputs": [],
   "source": [
    "#Количество всех слов в словаре\n",
    "W = data[0][1] \n",
    "#Количество  документов\n",
    "D = data[0][0] \n",
    "for i in range(1,len(data)):\n",
    "    W = max(W,data[i][1])\n",
    "    D = max(D,data[i][0])\n",
    "W+=1\n",
    "D+=1\n",
    "#print(D)\n",
    "#print(W)\n",
    "#общее количество слов, совпадающих с w,отнесенных к теме t, во всех документах\n",
    "NWT = [0]*W\n",
    "for i in range(0,W):\n",
    "    NWT[i] =  [0]*T\n",
    "#количество слов, отнесенных к теме t в текущем документе d;\n",
    "NTD = [0]*T\n",
    "for i in range(0,T):\n",
    "    NTD[i] = [0]*D\n",
    "#общее количество слов во всех документах, отнесенных к теме t.\n",
    "NT = [0]*T\n",
    "#Общее число слов в документе\n",
    "N = [0]*D\n",
    "#набор всех слов в корпусе\n",
    "w = [0]*D\n",
    "#разбиение всех слов по темам\n",
    "z = [0]*D"
   ]
  },
  {
   "cell_type": "code",
   "execution_count": 15,
   "id": "domestic-broadway",
   "metadata": {
    "execution": {
     "iopub.execute_input": "2021-05-01T12:17:05.311338Z",
     "iopub.status.busy": "2021-05-01T12:17:05.310664Z",
     "iopub.status.idle": "2021-05-01T12:17:05.313281Z",
     "shell.execute_reply": "2021-05-01T12:17:05.313783Z"
    },
    "papermill": {
     "duration": 0.03774,
     "end_time": "2021-05-01T12:17:05.314003",
     "exception": false,
     "start_time": "2021-05-01T12:17:05.276263",
     "status": "completed"
    },
    "tags": []
   },
   "outputs": [],
   "source": [
    "for i in range(0,D):\n",
    "    w[i] = [0]*0\n",
    "#Подсчет количества слов в документе\n",
    "for i in range(0,len(data)):\n",
    "    w[data[i][0]] += ([data[i][1]]* data[i][2])\n",
    "#Объявление \n",
    "for i in range(0,D):\n",
    "    ll = len(w[i])\n",
    "    N[i] = ll \n",
    "    z[i] = [0]* N[i]\n",
    "#print(w)"
   ]
  },
  {
   "cell_type": "code",
   "execution_count": 16,
   "id": "false-arrival",
   "metadata": {
    "execution": {
     "iopub.execute_input": "2021-05-01T12:17:05.375915Z",
     "iopub.status.busy": "2021-05-01T12:17:05.375156Z",
     "iopub.status.idle": "2021-05-01T12:17:05.380378Z",
     "shell.execute_reply": "2021-05-01T12:17:05.379807Z"
    },
    "papermill": {
     "duration": 0.039563,
     "end_time": "2021-05-01T12:17:05.380513",
     "exception": false,
     "start_time": "2021-05-01T12:17:05.340950",
     "status": "completed"
    },
    "tags": []
   },
   "outputs": [],
   "source": [
    "#Инициализация/семплинг\n",
    "for d in range(0,D):\n",
    "    for n in range(0,N[d]):\n",
    "        #Равновероятно генерируем тему от 0 до T-1\n",
    "        u = math.floor(uniform(0,T,1))\n",
    "        v = w[d][n]\n",
    "        z[d][n] = u\n",
    "        NWT[v][u] +=1;\n",
    "        NTD[u][d] += 1\n",
    "        NT[u] += 1"
   ]
  },
  {
   "cell_type": "code",
   "execution_count": 17,
   "id": "protecting-international",
   "metadata": {
    "execution": {
     "iopub.execute_input": "2021-05-01T12:17:05.439308Z",
     "iopub.status.busy": "2021-05-01T12:17:05.438384Z",
     "iopub.status.idle": "2021-05-01T12:17:05.441993Z",
     "shell.execute_reply": "2021-05-01T12:17:05.441444Z"
    },
    "papermill": {
     "duration": 0.034578,
     "end_time": "2021-05-01T12:17:05.442133",
     "exception": false,
     "start_time": "2021-05-01T12:17:05.407555",
     "status": "completed"
    },
    "tags": []
   },
   "outputs": [],
   "source": [
    "#print(NWT)\n",
    "#print(NTD)"
   ]
  },
  {
   "cell_type": "code",
   "execution_count": 18,
   "id": "liable-ratio",
   "metadata": {
    "execution": {
     "iopub.execute_input": "2021-05-01T12:17:05.512343Z",
     "iopub.status.busy": "2021-05-01T12:17:05.509384Z",
     "iopub.status.idle": "2021-05-01T12:17:06.574253Z",
     "shell.execute_reply": "2021-05-01T12:17:06.573655Z"
    },
    "papermill": {
     "duration": 1.104984,
     "end_time": "2021-05-01T12:17:06.574396",
     "exception": false,
     "start_time": "2021-05-01T12:17:05.469412",
     "status": "completed"
    },
    "tags": []
   },
   "outputs": [],
   "source": [
    "#Число итераций по схеме Гиббса\n",
    "M = 10\n",
    "for m in range(0,M):\n",
    "    for d in range(0,D):\n",
    "        for n in range(0,N[d]):\n",
    "            u = z[d][n]\n",
    "            v = w[d][n]\n",
    "            NWT[v][u] -=1\n",
    "            NTD[u][d] -=1\n",
    "            NT[u] -=1\n",
    "            p = [0]*T\n",
    "            for t in range(0,T):\n",
    "                p[t] = ((alpha + NTD[t][d])*(beta + NWT[v][t]))/(beta*W+NT[t])\n",
    "            P = [0]*len(p)\n",
    "            for i in range(0,len(P)):\n",
    "                P[i] = p[i] / sum(p)\n",
    "            #Моделирование ДСВ\n",
    "            z[d][n] = stats.rv_discrete(values=([j for j in range(0,T)],P)).rvs() \n",
    "            u = z[d][n]\n",
    "         #   print(z[d][n])\n",
    "         #   print(w[d][n])\n",
    "            NWT[v][u] += 1\n",
    "            NTD[u][d] +=1\n",
    "            NT[u]+=1"
   ]
  },
  {
   "cell_type": "code",
   "execution_count": 19,
   "id": "dressed-riding",
   "metadata": {
    "execution": {
     "iopub.execute_input": "2021-05-01T12:17:06.633787Z",
     "iopub.status.busy": "2021-05-01T12:17:06.633175Z",
     "iopub.status.idle": "2021-05-01T12:17:06.636002Z",
     "shell.execute_reply": "2021-05-01T12:17:06.635363Z"
    },
    "papermill": {
     "duration": 0.033966,
     "end_time": "2021-05-01T12:17:06.636139",
     "exception": false,
     "start_time": "2021-05-01T12:17:06.602173",
     "status": "completed"
    },
    "tags": []
   },
   "outputs": [],
   "source": [
    "#print(NTD)\n",
    "#print(NWT)\n",
    "#print(z)"
   ]
  },
  {
   "cell_type": "code",
   "execution_count": 20,
   "id": "premier-gardening",
   "metadata": {
    "execution": {
     "iopub.execute_input": "2021-05-01T12:17:06.698784Z",
     "iopub.status.busy": "2021-05-01T12:17:06.697837Z",
     "iopub.status.idle": "2021-05-01T12:17:06.701847Z",
     "shell.execute_reply": "2021-05-01T12:17:06.701192Z"
    },
    "papermill": {
     "duration": 0.038342,
     "end_time": "2021-05-01T12:17:06.702006",
     "exception": false,
     "start_time": "2021-05-01T12:17:06.663664",
     "status": "completed"
    },
    "tags": []
   },
   "outputs": [],
   "source": [
    "phi = [0]*T \n",
    "for i in range(0,T):\n",
    "    phi[i] = [0]*W\n",
    "\n",
    "theta = [0]*D \n",
    "for i  in range(0,D):\n",
    "    theta[i]= [0]*T"
   ]
  },
  {
   "cell_type": "code",
   "execution_count": 21,
   "id": "strategic-movie",
   "metadata": {
    "execution": {
     "iopub.execute_input": "2021-05-01T12:17:06.764544Z",
     "iopub.status.busy": "2021-05-01T12:17:06.763906Z",
     "iopub.status.idle": "2021-05-01T12:17:06.766600Z",
     "shell.execute_reply": "2021-05-01T12:17:06.765980Z"
    },
    "papermill": {
     "duration": 0.036812,
     "end_time": "2021-05-01T12:17:06.766746",
     "exception": false,
     "start_time": "2021-05-01T12:17:06.729934",
     "status": "completed"
    },
    "tags": []
   },
   "outputs": [],
   "source": [
    "#Вычисление оценок\n",
    "for d in range(0,D):\n",
    "    for t in range(0,T):\n",
    "        #print(theta)\n",
    "        theta[d][t] = (alpha + NTD[t][d])/(alpha*T+N[d])\n",
    "        #print(theta)\n",
    "       # print(NTD[t][d])print(theta[d][t])\n",
    "#print(theta[0])\n",
    "for t in range(0,T):\n",
    "    for w in range(0,W):\n",
    "        phi[t][w] = (beta + NWT[w][t])/(beta*W+NT[t])"
   ]
  },
  {
   "cell_type": "code",
   "execution_count": 22,
   "id": "younger-composer",
   "metadata": {
    "execution": {
     "iopub.execute_input": "2021-05-01T12:17:06.827151Z",
     "iopub.status.busy": "2021-05-01T12:17:06.826352Z",
     "iopub.status.idle": "2021-05-01T12:17:06.830148Z",
     "shell.execute_reply": "2021-05-01T12:17:06.829521Z"
    },
    "papermill": {
     "duration": 0.035931,
     "end_time": "2021-05-01T12:17:06.830281",
     "exception": false,
     "start_time": "2021-05-01T12:17:06.794350",
     "status": "completed"
    },
    "tags": []
   },
   "outputs": [
    {
     "name": "stdout",
     "output_type": "stream",
     "text": [
      "[[0.4955156950672646, 0.4955156950672646, 0.002242152466367713, 0.002242152466367713, 0.002242152466367713, 0.002242152466367713], [0.002242152466367713, 0.002242152466367713, 0.002242152466367713, 0.002242152466367713, 0.4955156950672646, 0.4955156950672646], [0.002242152466367713, 0.002242152466367713, 0.4955156950672646, 0.4955156950672646, 0.002242152466367713, 0.002242152466367713]]\n",
      "[[0.49862258953168054, 0.002754820936639119, 0.49862258953168054], [0.002754820936639119, 0.49862258953168054, 0.49862258953168054], [0.49862258953168054, 0.49862258953168054, 0.002754820936639119], [0.9759036144578312, 0.012048192771084336, 0.012048192771084336], [0.012048192771084336, 0.012048192771084336, 0.9759036144578312], [0.012048192771084336, 0.9759036144578312, 0.012048192771084336]]\n"
     ]
    }
   ],
   "source": [
    "print(phi)\n",
    "print(theta)"
   ]
  },
  {
   "cell_type": "code",
   "execution_count": 23,
   "id": "proud-enterprise",
   "metadata": {
    "execution": {
     "iopub.execute_input": "2021-05-01T12:17:06.896735Z",
     "iopub.status.busy": "2021-05-01T12:17:06.896097Z",
     "iopub.status.idle": "2021-05-01T12:17:06.929796Z",
     "shell.execute_reply": "2021-05-01T12:17:06.929242Z"
    },
    "papermill": {
     "duration": 0.071636,
     "end_time": "2021-05-01T12:17:06.929950",
     "exception": false,
     "start_time": "2021-05-01T12:17:06.858314",
     "status": "completed"
    },
    "tags": []
   },
   "outputs": [],
   "source": [
    "vocab = pd.read_csv('test2.vocab', sep=\" \", header=None)\n",
    "theme = 0\n",
    "maxx = theta[0][0]\n",
    "for i in range(1,len(theta[0])):\n",
    "               if theta[0][i] > maxx:\n",
    "                   maxx = theta[0][i]\n",
    "                   theme = i\n",
    "#print(maxx)\n",
    "#print(theme)\n",
    "tmp = [0]*len(phi[theme])\n",
    "for i in range(0,len(phi[theme])):\n",
    "               tmp[i] = phi[theme][i]\n",
    "tmp.sort(reverse = True)\n",
    "cnt = 3\n",
    "num_words = [0]*cnt\n",
    "words = [0]*cnt\n",
    "#rint(words)\n",
    "#rint(phi[theme])\n",
    "#rint(tmp)\n",
    "#rint(len(phi[theme]))\n",
    "#rint(cnt)\n",
    "for i in range(0,cnt):\n",
    "    for j in range(0,len(phi[theme])):\n",
    "                if(phi[theme][j] == tmp[i]):\n",
    "                    num_words[i] = j\n",
    "   #print(num_words)\n",
    "    words[i] = vocab[0][num_words[i]]"
   ]
  },
  {
   "cell_type": "code",
   "execution_count": 24,
   "id": "miniature-longer",
   "metadata": {
    "execution": {
     "iopub.execute_input": "2021-05-01T12:17:06.991200Z",
     "iopub.status.busy": "2021-05-01T12:17:06.990472Z",
     "iopub.status.idle": "2021-05-01T12:17:06.994288Z",
     "shell.execute_reply": "2021-05-01T12:17:06.994942Z"
    },
    "papermill": {
     "duration": 0.037014,
     "end_time": "2021-05-01T12:17:06.995161",
     "exception": false,
     "start_time": "2021-05-01T12:17:06.958147",
     "status": "completed"
    },
    "tags": []
   },
   "outputs": [
    {
     "name": "stdout",
     "output_type": "stream",
     "text": [
      "['abandon', 'abandon', 'abc']\n",
      "[0.4955156950672646, 0.4955156950672646, 0.002242152466367713]\n"
     ]
    }
   ],
   "source": [
    "print(words)\n",
    "print(tmp[0:cnt])"
   ]
  },
  {
   "cell_type": "code",
   "execution_count": 25,
   "id": "uniform-crime",
   "metadata": {
    "execution": {
     "iopub.execute_input": "2021-05-01T12:17:07.059704Z",
     "iopub.status.busy": "2021-05-01T12:17:07.058731Z",
     "iopub.status.idle": "2021-05-01T12:17:07.061979Z",
     "shell.execute_reply": "2021-05-01T12:17:07.061381Z"
    },
    "papermill": {
     "duration": 0.037208,
     "end_time": "2021-05-01T12:17:07.062113",
     "exception": false,
     "start_time": "2021-05-01T12:17:07.024905",
     "status": "completed"
    },
    "tags": []
   },
   "outputs": [],
   "source": [
    "weights = dict([(words[i], tmp[i]) for i in range(0,T)])\n",
    "#print(weights)"
   ]
  },
  {
   "cell_type": "code",
   "execution_count": 26,
   "id": "solid-finding",
   "metadata": {
    "execution": {
     "iopub.execute_input": "2021-05-01T12:17:07.126754Z",
     "iopub.status.busy": "2021-05-01T12:17:07.126061Z",
     "iopub.status.idle": "2021-05-01T12:17:07.221063Z",
     "shell.execute_reply": "2021-05-01T12:17:07.220511Z"
    },
    "papermill": {
     "duration": 0.130163,
     "end_time": "2021-05-01T12:17:07.221203",
     "exception": false,
     "start_time": "2021-05-01T12:17:07.091040",
     "status": "completed"
    },
    "tags": []
   },
   "outputs": [
    {
     "data": {
      "image/png": "[encoded data removed]",
      "text/plain": [
       "<Figure size 432x288 with 1 Axes>"
      ]
     },
     "metadata": {
      "needs_background": "light"
     },
     "output_type": "display_data"
    }
   ],
   "source": [
    "wordcloud = WordCloud(max_font_size=50, max_words=100, background_color=\"white\").generate_from_frequencies(weights)\n",
    "plt.figure()\n",
    "plt.imshow(wordcloud, interpolation=\"bilinear\")\n",
    "plt.axis(\"off\")\n",
    "plt.show()"
   ]
  },
  {
   "cell_type": "markdown",
   "id": "fabulous-degree",
   "metadata": {
    "papermill": {
     "duration": 0.029643,
     "end_time": "2021-05-01T12:17:07.280808",
     "exception": false,
     "start_time": "2021-05-01T12:17:07.251165",
     "status": "completed"
    },
    "tags": []
   },
   "source": [
    "# Задание 3.3"
   ]
  },
  {
   "cell_type": "code",
   "execution_count": 27,
   "id": "advised-musician",
   "metadata": {
    "execution": {
     "iopub.execute_input": "2021-05-01T12:17:07.351345Z",
     "iopub.status.busy": "2021-05-01T12:17:07.350645Z",
     "iopub.status.idle": "2021-05-01T12:17:07.353940Z",
     "shell.execute_reply": "2021-05-01T12:17:07.353389Z"
    },
    "papermill": {
     "duration": 0.042722,
     "end_time": "2021-05-01T12:17:07.354075",
     "exception": false,
     "start_time": "2021-05-01T12:17:07.311353",
     "status": "completed"
    },
    "tags": []
   },
   "outputs": [],
   "source": [
    "m = 500000\n",
    "N = 100\n",
    "\n",
    "beta1 = 5\n",
    "beta2 = 5\n",
    "\n",
    "x = [0]*N;\n",
    "for i in range(0,N):\n",
    "    x[i] = [0]*N"
   ]
  },
  {
   "cell_type": "code",
   "execution_count": 28,
   "id": "gentle-portland",
   "metadata": {
    "execution": {
     "iopub.execute_input": "2021-05-01T12:17:07.422487Z",
     "iopub.status.busy": "2021-05-01T12:17:07.421749Z",
     "iopub.status.idle": "2021-05-01T12:17:07.425371Z",
     "shell.execute_reply": "2021-05-01T12:17:07.424834Z"
    },
    "papermill": {
     "duration": 0.041076,
     "end_time": "2021-05-01T12:17:07.425504",
     "exception": false,
     "start_time": "2021-05-01T12:17:07.384428",
     "status": "completed"
    },
    "tags": []
   },
   "outputs": [],
   "source": [
    "def U (sign, i, j):\n",
    "    res = 0\n",
    "    if(i > 0):\n",
    "        res = res + (-beta1*x[i][j]*x[(i-1)][j])\n",
    "    if(i < N - 1):\n",
    "        res = res + (-beta1*x[i][j]*x[(i+1)][j])\n",
    "    if(j > 0):\n",
    "        res = res + (-beta2*x[i][j]*x[i][(j-1)])\n",
    "    if(j < N - 1):\n",
    "        res = res + (-beta2*x[i][j]*x[i][(j+1)])\n",
    "    return(res* sign)"
   ]
  },
  {
   "cell_type": "code",
   "execution_count": 29,
   "id": "measured-diversity",
   "metadata": {
    "execution": {
     "iopub.execute_input": "2021-05-01T12:17:07.504234Z",
     "iopub.status.busy": "2021-05-01T12:17:07.498790Z",
     "iopub.status.idle": "2021-05-01T12:17:18.709512Z",
     "shell.execute_reply": "2021-05-01T12:17:18.708877Z"
    },
    "papermill": {
     "duration": 11.254302,
     "end_time": "2021-05-01T12:17:18.709651",
     "exception": false,
     "start_time": "2021-05-01T12:17:07.455349",
     "status": "completed"
    },
    "tags": []
   },
   "outputs": [],
   "source": [
    "for i in range(0,N):\n",
    "    for j in range(0,N):\n",
    "        if(uniform() < 0.5):\n",
    "            x[i][j] = -1\n",
    "        else:\n",
    "            x[i][j] = 1\n",
    "x0  = [0]*len(x)\n",
    "for i in range(0,len(x)):\n",
    "    x0[i] = [0]*len(x)\n",
    "for i in range(0,len(x)):\n",
    "    for j in range(0,len(x)):\n",
    "        x0[i][j] = x[i][j]\n",
    "for k in range(0,m-1):\n",
    "    pos = math.floor(uniform(0, N*N,1))\n",
    "    i = math.floor(pos/N)\n",
    "    j =  pos-i*N\n",
    "    alpha = min(1, np.exp(-U(-1,i,j))/np.exp(-U(1,i,j)))\n",
    "    if(uniform() < alpha):\n",
    "        x[i][j] = -x[i][j]\n"
   ]
  },
  {
   "cell_type": "code",
   "execution_count": 30,
   "id": "loved-namibia",
   "metadata": {
    "execution": {
     "iopub.execute_input": "2021-05-01T12:17:18.776235Z",
     "iopub.status.busy": "2021-05-01T12:17:18.775571Z",
     "iopub.status.idle": "2021-05-01T12:17:18.778359Z",
     "shell.execute_reply": "2021-05-01T12:17:18.778845Z"
    },
    "papermill": {
     "duration": 0.03929,
     "end_time": "2021-05-01T12:17:18.779035",
     "exception": false,
     "start_time": "2021-05-01T12:17:18.739745",
     "status": "completed"
    },
    "tags": []
   },
   "outputs": [],
   "source": [
    "M = [0]*(len(x))\n",
    "for i in range(0,len(x)):\n",
    "    M[i] = [0]*len(x)"
   ]
  },
  {
   "cell_type": "code",
   "execution_count": 31,
   "id": "choice-provider",
   "metadata": {
    "execution": {
     "iopub.execute_input": "2021-05-01T12:17:18.879888Z",
     "iopub.status.busy": "2021-05-01T12:17:18.875997Z",
     "iopub.status.idle": "2021-05-01T12:17:18.999140Z",
     "shell.execute_reply": "2021-05-01T12:17:18.999584Z"
    },
    "papermill": {
     "duration": 0.187448,
     "end_time": "2021-05-01T12:17:18.999763",
     "exception": false,
     "start_time": "2021-05-01T12:17:18.812315",
     "status": "completed"
    },
    "tags": []
   },
   "outputs": [
    {
     "data": {
      "image/png": "[encoded data removed]",
      "text/plain": [
       "<Figure size 432x432 with 1 Axes>"
      ]
     },
     "metadata": {
      "needs_background": "light"
     },
     "output_type": "display_data"
    }
   ],
   "source": [
    "for i in range(0,N):\n",
    "    for j in range(0,N):\n",
    "        M[i][j] = x0[i][j]+1;\n",
    "#print(M)\n",
    "fig, ax = plt.subplots()\n",
    "\n",
    "ax.imshow(M)\n",
    "\n",
    "fig.set_figwidth(6)    \n",
    "fig.set_figheight(6)    \n",
    "\n",
    "plt.show()"
   ]
  },
  {
   "cell_type": "code",
   "execution_count": 32,
   "id": "underlying-peninsula",
   "metadata": {
    "execution": {
     "iopub.execute_input": "2021-05-01T12:17:19.098133Z",
     "iopub.status.busy": "2021-05-01T12:17:19.089101Z",
     "iopub.status.idle": "2021-05-01T12:17:19.204492Z",
     "shell.execute_reply": "2021-05-01T12:17:19.204014Z"
    },
    "papermill": {
     "duration": 0.173457,
     "end_time": "2021-05-01T12:17:19.204626",
     "exception": false,
     "start_time": "2021-05-01T12:17:19.031169",
     "status": "completed"
    },
    "tags": []
   },
   "outputs": [
    {
     "data": {
      "image/png": "[encoded data removed]",
      "text/plain": [
       "<Figure size 432x432 with 1 Axes>"
      ]
     },
     "metadata": {
      "needs_background": "light"
     },
     "output_type": "display_data"
    }
   ],
   "source": [
    "for i in range(0,N):\n",
    "    for j in range(0,N):\n",
    "        M[i][j] = x[i][j]+1;\n",
    "#print(M)\n",
    "fig, ax = plt.subplots()\n",
    "\n",
    "ax.imshow(M)\n",
    "\n",
    "fig.set_figwidth(6)    \n",
    "fig.set_figheight(6)    \n",
    "\n",
    "plt.show()"
   ]
  }
 ],
 "metadata": {
  "kernelspec": {
   "display_name": "Python 3 (ipykernel)",
   "language": "python",
   "name": "python3"
  },
  "language_info": {
   "codemirror_mode": {
    "name": "ipython",
    "version": 3
   },
   "file_extension": ".py",
   "mimetype": "text/x-python",
   "name": "python",
   "nbconvert_exporter": "python",
   "pygments_lexer": "ipython3",
   "version": "3.8.10"
  },
  "papermill": {
   "default_parameters": {},
   "duration": 30.551487,
   "end_time": "2021-05-01T12:17:19.946386",
   "environment_variables": {},
   "exception": null,
   "input_path": "__notebook__.ipynb",
   "output_path": "__notebook__.ipynb",
   "parameters": {},
   "start_time": "2021-05-01T12:16:49.394899",
   "version": "2.3.3"
  }
 },
 "nbformat": 4,
 "nbformat_minor": 5
}
